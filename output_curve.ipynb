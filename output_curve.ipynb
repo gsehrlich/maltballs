{
 "metadata": {
  "name": "",
  "signature": "sha256:7039fe92a7359e1711316fd3654c16d0305b653a5726bbcfbe1ff2317a8076d1"
 },
 "nbformat": 3,
 "nbformat_minor": 0,
 "worksheets": [
  {
   "cells": [
    {
     "cell_type": "code",
     "collapsed": false,
     "input": [
      "# Model for network analyzer data with ringdown\n",
      "\n",
      "from pylab import *\n",
      "from __future__ import division\n",
      "\n",
      "def sinc(x):\n",
      "    return sin(x)/x if x != 0 else 1\n",
      "\n",
      "def output_curve(freq,f0,Q,A):\n",
      "    # Define frequencies\n",
      "    n = len(freq)\n",
      "    w = 2*pi*freq\n",
      "    w0 = 2*pi*f0\n",
      "    \n",
      "    # Define parameters\n",
      "    ts = .48 ; # Duration of signal\n",
      "    tr = 0 ; # Duration of rest between signals\n",
      "\n",
      "    # Fourier transform of input signal (sine times boxcar)\n",
      "    f = zeros((n,n),dtype=complex128) ;\n",
      "    for j in range(0,n):\n",
      "        for k in range(0,n):\n",
      "            f[j,k] = -(1j/2) * ts * A * (sinc(ts*(w[j]-w[k])/(2*pi)) - sinc(ts*(w[j]+w[k])/(2*pi))) ;\n",
      "\n",
      "    # Define transfer function of circuit (using parameters from Gabe's\n",
      "    # equivalent circuit)\n",
      "    R = 1e-3 ; \n",
      "    L = Q*R/w0 ; \n",
      "    C = 1/w0**2/L ;\n",
      "    H = 1/(R + 1/(1j*w*C) + 1j*w*L);\n",
      "\n",
      "    # Transfered signal\n",
      "    F = zeros((n,n),dtype=complex128) ;\n",
      "    for i in range(0,n):\n",
      "        F[:,i] = H*f[:,i] ;\n",
      "\n",
      "    # Modeled output of network analyzer\n",
      "    G = zeros((n,),dtype=complex128) ;\n",
      "    G[1] = absolute(F[1,1]) ;\n",
      "    for m in range(1,n):\n",
      "        G[m] = absolute(F[m,m] + G[m-1]*exp(-(ts+tr)*pi*w0/Q)) ;\n",
      "\n",
      "    return absolute(G)"
     ],
     "language": "python",
     "metadata": {},
     "outputs": [],
     "prompt_number": 32
    },
    {
     "cell_type": "code",
     "collapsed": false,
     "input": [
      "freq = linspace(231480,231520,101)\n",
      "f0 = 231500\n",
      "G = output_curve(freq,f0,1e7,1)\n",
      "plot(freq,G)"
     ],
     "language": "python",
     "metadata": {},
     "outputs": [
      {
       "metadata": {},
       "output_type": "pyout",
       "prompt_number": 41,
       "text": [
        "[<matplotlib.lines.Line2D at 0x10e2a3c90>]"
       ]
      },
      {
       "metadata": {},
       "output_type": "display_data",
       "png": "[encoded data removed]",
       "text": [
        "<matplotlib.figure.Figure at 0x10d6de850>"
       ]
      }
     ],
     "prompt_number": 41
    },
    {
     "cell_type": "code",
     "collapsed": false,
     "input": [
      "size(f)\n"
     ],
     "language": "python",
     "metadata": {},
     "outputs": [
      {
       "metadata": {},
       "output_type": "pyout",
       "prompt_number": 44,
       "text": [
        "1"
       ]
      }
     ],
     "prompt_number": 44
    },
    {
     "cell_type": "code",
     "collapsed": false,
     "input": [],
     "language": "python",
     "metadata": {},
     "outputs": []
    }
   ],
   "metadata": {}
  }
 ]
}