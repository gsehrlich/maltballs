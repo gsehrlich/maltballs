{
 "metadata": {
  "name": "",
  "signature": "sha256:c1b589f147b22350b7ce7067acc434438b5fafa9b43c3cd5c2ef70efc98b4093"
 },
 "nbformat": 3,
 "nbformat_minor": 0,
 "worksheets": [
  {
   "cells": [
    {
     "cell_type": "code",
     "collapsed": false,
     "input": [
      "from pylab import *\n",
      "import os"
     ],
     "language": "python",
     "metadata": {},
     "outputs": [],
     "prompt_number": 2
    },
    {
     "cell_type": "code",
     "collapsed": false,
     "input": [
      "os.chdir('/Users/Alex/Documents/Stanford/Classes/' \n",
      "        'Physics 108/maltballs/data/')"
     ],
     "language": "python",
     "metadata": {},
     "outputs": [],
     "prompt_number": 11
    },
    {
     "cell_type": "code",
     "collapsed": false,
     "input": [
      "refiles = [s for s in os.listdir('.') if \"2015-05-25\" in s]\n",
      "n = len(refiles)\n",
      "freq = zeros((n,1601))\n",
      "data = zeros((n,1601))\n",
      "peak = zeros((n,1))\n",
      "omega = zeros((n,1))\n",
      "j = 0\n",
      "for filename in (s for s in os.listdir('.') if \"2015-05-25\" in s):\n",
      "    freq, data = loadtxt('/Users/Alex/Documents/Stanford/Classes/Physics 108/maltballs/data/' + filename, unpack = True)\n",
      "    thepeak = max(data)\n",
      "    for i in range(len(data)):\n",
      "        if data[i] == thepeak:\n",
      "            ind = i\n",
      "            break\n",
      "    omega[j] = freq[ind]\n",
      "    j += 1"
     ],
     "language": "python",
     "metadata": {},
     "outputs": [],
     "prompt_number": 87
    },
    {
     "cell_type": "code",
     "collapsed": false,
     "input": [
      "plot(range(n),omega)"
     ],
     "language": "python",
     "metadata": {},
     "outputs": []
    }
   ],
   "metadata": {}
  }
 ]
}